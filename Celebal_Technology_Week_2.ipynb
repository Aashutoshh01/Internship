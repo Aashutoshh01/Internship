{
  "nbformat": 4,
  "nbformat_minor": 0,
  "metadata": {
    "colab": {
      "provenance": []
    },
    "kernelspec": {
      "name": "python3",
      "display_name": "Python 3"
    },
    "language_info": {
      "name": "python"
    }
  },
  "cells": [
    {
      "cell_type": "markdown",
      "source": [
        "# Task: Create a Python program that implements a singly linked list using Object-Oriented Programming (OOP) principles. Your implementation should include the following: A Node class to represent each node in the list. A LinkedList class to manage the nodes, with methods to: Add a node to the end of the list Print the list Delete the nth node (where n is a 1-based index) Include exception handling to manage edge cases such as: Deleting a node from an empty list Deleting a node with an index out of range Test your implementation with at least one sample list."
      ],
      "metadata": {
        "id": "1mw1MnkprrP1"
      }
    },
    {
      "cell_type": "code",
      "execution_count": 1,
      "metadata": {
        "id": "iyy_ahPkqjFS"
      },
      "outputs": [],
      "source": [
        "class Node:\n",
        "    def __init__(self, data):\n",
        "        self.data = data\n",
        "        self.next = None"
      ]
    },
    {
      "cell_type": "code",
      "source": [
        "class LinkedList:\n",
        "    def __init__(self):\n",
        "        self.head = None\n",
        "\n",
        "    def add_node(self, data):\n",
        "        new_node = Node(data)\n",
        "        if not self.head:\n",
        "            self.head = new_node\n",
        "            return\n",
        "        current = self.head\n",
        "        while current.next:\n",
        "            current = current.next\n",
        "        current.next = new_node\n",
        "\n",
        "    def print_list(self):\n",
        "        if not self.head:\n",
        "            print(\"List is empty.\")\n",
        "            return\n",
        "        current = self.head\n",
        "        while current:\n",
        "            print(current.data, end=\" -> \")\n",
        "            current = current.next\n",
        "        print(\"None\")\n",
        "\n",
        "    def delete_nth_node(self, n):\n",
        "        if not self.head:\n",
        "            raise Exception(\"Cannot delete from an empty list.\")\n",
        "        if n <= 0:\n",
        "            raise IndexError(\"Index must be 1 or greater.\")\n",
        "\n",
        "        if n == 1:\n",
        "            self.head = self.head.next\n",
        "            return\n",
        "\n",
        "        current = self.head\n",
        "        count = 1\n",
        "        while current and count < n - 1:\n",
        "            current = current.next\n",
        "            count += 1\n",
        "\n",
        "        if not current or not current.next:\n",
        "            raise IndexError(\"Index out of range.\")\n",
        "\n",
        "        current.next = current.next.next"
      ],
      "metadata": {
        "id": "oJGJ_bq2rEQq"
      },
      "execution_count": 2,
      "outputs": []
    },
    {
      "cell_type": "code",
      "source": [
        "if __name__ == \"__main__\":\n",
        "    ll = LinkedList()\n",
        "\n",
        "    ll.add_node(10)\n",
        "    ll.add_node(20)\n",
        "    ll.add_node(30)\n",
        "    ll.add_node(40)\n",
        "\n",
        "    print(\"Initial list:\")\n",
        "    ll.print_list()\n",
        "\n",
        "    try:\n",
        "        ll.delete_nth_node(2)\n",
        "        print(\"\\nAfter deleting 2nd node:\")\n",
        "        ll.print_list()\n",
        "    except Exception as e:\n",
        "        print(\"Error:\", e)\n",
        "\n",
        "    try:\n",
        "        ll.delete_nth_node(10)\n",
        "    except Exception as e:\n",
        "        print(\"\\nError (delete 10th node):\", e)\n",
        "\n",
        "    empty_list = LinkedList()\n",
        "    try:\n",
        "        empty_list.delete_nth_node(1)\n",
        "    except Exception as e:\n",
        "        print(\"\\nError (delete from empty list):\", e)"
      ],
      "metadata": {
        "colab": {
          "base_uri": "https://localhost:8080/"
        },
        "id": "uhp9knpBrJ0T",
        "outputId": "2ce24486-7e26-4ace-dd6f-6806d1fef7e8"
      },
      "execution_count": 13,
      "outputs": [
        {
          "output_type": "stream",
          "name": "stdout",
          "text": [
            "Initial list:\n",
            "10 -> 20 -> 30 -> 40 -> None\n",
            "\n",
            "After deleting 2nd node:\n",
            "10 -> 30 -> 40 -> None\n",
            "\n",
            "Error (delete 10th node): Index out of range.\n",
            "\n",
            "Error (delete from empty list): Cannot delete from an empty list.\n"
          ]
        }
      ]
    }
  ]
}